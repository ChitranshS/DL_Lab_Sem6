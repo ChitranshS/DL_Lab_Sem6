{
  "nbformat": 4,
  "nbformat_minor": 0,
  "metadata": {
    "colab": {
      "provenance": [],
      "authorship_tag": "ABX9TyO4V8DhMeLnizfi9nSUADQh",
      "include_colab_link": true
    },
    "kernelspec": {
      "name": "python3",
      "display_name": "Python 3"
    },
    "language_info": {
      "name": "python"
    }
  },
  "cells": [
    {
      "cell_type": "markdown",
      "metadata": {
        "id": "view-in-github",
        "colab_type": "text"
      },
      "source": [
        "<a href=\"https://colab.research.google.com/github/ChitranshS/DL_Lab_Sem6/blob/main/DL_Lab_2_4_23.ipynb\" target=\"_parent\"><img src=\"https://colab.research.google.com/assets/colab-badge.svg\" alt=\"Open In Colab\"/></a>"
      ]
    },
    {
      "cell_type": "code",
      "source": [
        "!pip install tensorflow-hub"
      ],
      "metadata": {
        "id": "l7aAo0nK-9Bz"
      },
      "execution_count": null,
      "outputs": []
    },
    {
      "cell_type": "code",
      "execution_count": 6,
      "metadata": {
        "id": "dVozwjKc9DAd"
      },
      "outputs": [],
      "source": [
        "    import tensorflow_hub as hub\n",
        "    import tensorflow as tf\n",
        "    import cv2\n",
        "    import numpy as np\n",
        "    import matplotlib.pyplot as plt\n",
        "    from tensorflow.python.ops.numpy_ops import np_config;np_config.enable_numpy_behavior()"
      ]
    },
    {
      "cell_type": "code",
      "source": [
        ""
      ],
      "metadata": {
        "id": "0asValGY-hdO"
      },
      "execution_count": null,
      "outputs": []
    }
  ]
}